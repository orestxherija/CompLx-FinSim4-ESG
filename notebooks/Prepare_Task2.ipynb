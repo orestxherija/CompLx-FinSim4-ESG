{
 "cells": [
  {
   "cell_type": "markdown",
   "id": "73a1cf8a-92c2-46b2-acdc-9d2b916e52b4",
   "metadata": {},
   "source": [
    "import libraries"
   ]
  },
  {
   "cell_type": "code",
   "execution_count": 2,
   "id": "161c0d6b-d97b-41a3-9a91-89497ef6068d",
   "metadata": {},
   "outputs": [],
   "source": [
    "import json\n",
    "import re\n",
    "import collections\n",
    "import typing\n",
    "import pandas"
   ]
  },
  {
   "cell_type": "markdown",
   "id": "d7f42afd-c7dc-4980-ad9c-2646d5029936",
   "metadata": {},
   "source": [
    "configure paths"
   ]
  },
  {
   "cell_type": "code",
   "execution_count": 3,
   "id": "a802b171-211f-47fa-9b02-46f0cfa301fc",
   "metadata": {},
   "outputs": [],
   "source": [
    "DATA_PATH = \"../data/task2/Sustainability_sentences_train.json\""
   ]
  },
  {
   "cell_type": "markdown",
   "id": "33655fd5-491d-4304-9f43-e8653c3d475f",
   "metadata": {},
   "source": [
    "helper functions"
   ]
  },
  {
   "cell_type": "code",
   "execution_count": 4,
   "id": "1fcfee6b-83c5-4027-a2b9-5e4784b5726e",
   "metadata": {},
   "outputs": [],
   "source": [
    "def label_str_to_int(text):\n",
    "    \"\"\"\n",
    "    Convet `str` labels to `int`\n",
    "    \"\"\"\n",
    "    if text == \"sustainable\":\n",
    "        return 1\n",
    "    elif text == \"unsustainable\":\n",
    "        return 0\n",
    "    else:\n",
    "        raise(f\"Label `{text}` is nor recognized.\")\n",
    "        \n",
    "def count_characters(text, char):\n",
    "    \"\"\"\n",
    "    Count how many times a character appears in a text\n",
    "    \"\"\"\n",
    "    counter = 0\n",
    "    for c in text:\n",
    "        if c == char:\n",
    "            counter += 1\n",
    "    return counter"
   ]
  },
  {
   "cell_type": "markdown",
   "id": "000fd0a8-4326-416b-b421-4d5c7d43e460",
   "metadata": {},
   "source": [
    "read in dataset"
   ]
  },
  {
   "cell_type": "code",
   "execution_count": 5,
   "id": "684d9259-3a7c-4033-b119-fa0fa14c273c",
   "metadata": {},
   "outputs": [],
   "source": [
    "with open(DATA_PATH, \"r\") as json_in:\n",
    "    records = [(ex[\"sentence\"], label_str_to_int(ex[\"label\"])) for ex in json.load(json_in)]\n",
    "\n",
    "data = pandas.DataFrame.from_records(data=records, columns=[\"text\", \"target\"])"
   ]
  },
  {
   "cell_type": "code",
   "execution_count": 27,
   "id": "481cd109-d69c-4fb1-9dc1-d4e25265c642",
   "metadata": {},
   "outputs": [],
   "source": [
    "data.to_csv(\n",
    "    path_or_buf=\"../data/task2/data.tsv\",\n",
    "    sep=\"\\t\",\n",
    "    index=False\n",
    ")"
   ]
  },
  {
   "cell_type": "code",
   "execution_count": 6,
   "id": "e5b86a50-d6ba-449c-9d13-0d3910f5bc35",
   "metadata": {},
   "outputs": [
    {
     "data": {
      "text/plain": [
       "(2265, 2)"
      ]
     },
     "execution_count": 6,
     "metadata": {},
     "output_type": "execute_result"
    }
   ],
   "source": [
    "data.shape"
   ]
  },
  {
   "cell_type": "code",
   "execution_count": 7,
   "id": "6e5b4098-f717-490b-a3a4-eaf05c417902",
   "metadata": {},
   "outputs": [
    {
     "data": {
      "text/plain": [
       "1    0.539956\n",
       "0    0.460044\n",
       "Name: target, dtype: float64"
      ]
     },
     "execution_count": 7,
     "metadata": {},
     "output_type": "execute_result"
    }
   ],
   "source": [
    "data[\"target\"].value_counts(normalize=True)"
   ]
  },
  {
   "cell_type": "code",
   "execution_count": 8,
   "id": "f4f66eb0-43f1-4e06-9601-b4e5f53da9e7",
   "metadata": {},
   "outputs": [
    {
     "data": {
      "text/html": [
       "<div>\n",
       "<style scoped>\n",
       "    .dataframe tbody tr th:only-of-type {\n",
       "        vertical-align: middle;\n",
       "    }\n",
       "\n",
       "    .dataframe tbody tr th {\n",
       "        vertical-align: top;\n",
       "    }\n",
       "\n",
       "    .dataframe thead th {\n",
       "        text-align: right;\n",
       "    }\n",
       "</style>\n",
       "<table border=\"1\" class=\"dataframe\">\n",
       "  <thead>\n",
       "    <tr style=\"text-align: right;\">\n",
       "      <th></th>\n",
       "      <th>text</th>\n",
       "      <th>target</th>\n",
       "    </tr>\n",
       "  </thead>\n",
       "  <tbody>\n",
       "    <tr>\n",
       "      <th>0</th>\n",
       "      <td>For example, our portfolio companies have set ...</td>\n",
       "      <td>1</td>\n",
       "    </tr>\n",
       "    <tr>\n",
       "      <th>1</th>\n",
       "      <td>We continue to increase the percentage of rene...</td>\n",
       "      <td>1</td>\n",
       "    </tr>\n",
       "    <tr>\n",
       "      <th>2</th>\n",
       "      <td>Acea Ambiente, the Group Company operating in ...</td>\n",
       "      <td>1</td>\n",
       "    </tr>\n",
       "    <tr>\n",
       "      <th>3</th>\n",
       "      <td>Carbon intensity is measured as tons of CO2 pe...</td>\n",
       "      <td>0</td>\n",
       "    </tr>\n",
       "    <tr>\n",
       "      <th>4</th>\n",
       "      <td>More circular, efficient production and transp...</td>\n",
       "      <td>0</td>\n",
       "    </tr>\n",
       "  </tbody>\n",
       "</table>\n",
       "</div>"
      ],
      "text/plain": [
       "                                                text  target\n",
       "0  For example, our portfolio companies have set ...       1\n",
       "1  We continue to increase the percentage of rene...       1\n",
       "2  Acea Ambiente, the Group Company operating in ...       1\n",
       "3  Carbon intensity is measured as tons of CO2 pe...       0\n",
       "4  More circular, efficient production and transp...       0"
      ]
     },
     "execution_count": 8,
     "metadata": {},
     "output_type": "execute_result"
    }
   ],
   "source": [
    "data.head()"
   ]
  },
  {
   "cell_type": "code",
   "execution_count": 9,
   "id": "af3477fa-45ab-4da5-816f-ce77fc74186a",
   "metadata": {},
   "outputs": [
    {
     "data": {
      "text/plain": [
       "count    2265.000000\n",
       "mean       24.874172\n",
       "std        12.816577\n",
       "min         6.000000\n",
       "25%        17.000000\n",
       "50%        22.000000\n",
       "75%        30.000000\n",
       "max       138.000000\n",
       "Name: text, dtype: float64"
      ]
     },
     "execution_count": 9,
     "metadata": {},
     "output_type": "execute_result"
    }
   ],
   "source": [
    "data[\"text\"].apply(lambda x: len(x.split())).describe()"
   ]
  },
  {
   "cell_type": "code",
   "execution_count": 10,
   "id": "779b525b-6377-4a4c-9c41-0a426e74518b",
   "metadata": {},
   "outputs": [
    {
     "data": {
      "text/plain": [
       "['To start, we have developed intermediate Paris-aligned targets to reduce the carbon intensity in our Oil & Gas, Electric Power and Auto Manufacturing portfolios by 2030.',\n",
       " 'VGL is a Polish asset‑light, freight forwarding and logistics holding comprising of a number of entities operating in several segments of transport & logistic services.',\n",
       " 'Studies supporting this view include not only the EAT-Lancet study, but also others such as Rockstrom et al., 2020, “Planet- proofing the global food system;” Searchinger et al, 2018, “Creating a sustainable food future: a menu of solutions to feed nearly ten billion people by 2050;” and Gao & Bryan, 2017, “Finding Pathways to national-scale land-sector sustainability.”',\n",
       " 'As an office-based business, Rothschild & Co does not consider environmental discharges to air, water, soil or indeed noise pollution to be of material environmental risk.',\n",
       " 'The top social issues of concern were water & food security, inequality and employment security.',\n",
       " 'It should be noted that due to its business activities, the following Corporate Responsibility issues are not considered as relevant to Rothschild & Co: food waste, responsible, fair and sustainable food, fight against food insecurity and respect for animal welfare.',\n",
       " 'The main sectors in our corporate lending portfolio (as a percentage of the outstanding portfolio) are (1) services 10.8%, (2) distribution 6.9%, (3) real estate 6.3%, (4) building and construction 3.9%, (5) agriculture, fishing, farming 2.7%, (6) automotive 2.5%, (7) food production and beverages (food producers 1.8% and beverages 0.4%), (8) energy (1.6% electricity and 0.5% oil, gas & other fuels), (9) metals 1.4% and (10) chemicals 1.4%.',\n",
       " 'The deforestation risk assessment is performed in the following way: for all companies badly rated either by CDP or by Forest 500, Group Investment Risk & Sustainability runs a deeper analysis to confirm or reject the rating.',\n",
       " 'Metrics are normalized using Scope 1 & Scope 2 (location) emissions.']"
      ]
     },
     "execution_count": 10,
     "metadata": {},
     "output_type": "execute_result"
    }
   ],
   "source": [
    "[record[0] for record in records if \" & \" in record[0].lower()]"
   ]
  },
  {
   "cell_type": "code",
   "execution_count": 11,
   "id": "bb3840ea-12aa-4a7f-a92f-8478da6366e3",
   "metadata": {},
   "outputs": [],
   "source": [
    "vocab = collections.defaultdict(int)\n",
    "for sentence in data[\"text\"].values:\n",
    "    for token in sentence.split():\n",
    "        vocab[token] += 1"
   ]
  },
  {
   "cell_type": "code",
   "execution_count": 12,
   "id": "98f18b39-ceba-4ad8-91e8-e7e33303cd4f",
   "metadata": {},
   "outputs": [
    {
     "data": {
      "text/plain": [
       "9353"
      ]
     },
     "execution_count": 12,
     "metadata": {},
     "output_type": "execute_result"
    }
   ],
   "source": [
    "len(vocab)"
   ]
  },
  {
   "cell_type": "markdown",
   "id": "c605b820-5550-4510-bc75-9c896abd91b6",
   "metadata": {},
   "source": [
    "text cleaning methods\n",
    "- [x] add space before/after special characters\n",
    "- [x] add space before/after comma, except when surrounded by digits\n",
    "- [x] add space before/after period, if it end of string\n",
    "- [x] lowercasing\n",
    "- dash surrounded by spaces: remove it\n",
    "- dash preceeded by token but followed by space: elimnate space\n",
    "- split possessinve to word + possessive"
   ]
  },
  {
   "cell_type": "code",
   "execution_count": 13,
   "id": "af5fa0a2-9b09-4ef2-aa16-7a27bc552a40",
   "metadata": {},
   "outputs": [],
   "source": [
    "def remove_final_period(doc: str) -> str: \n",
    "    \"\"\"\n",
    "    Remove final period character from string\n",
    "    \"\"\"\n",
    "    return doc[:-1] if doc[-1] == \".\" else doc\n",
    "\n",
    "def lowercase_text(doc: str) -> str:\n",
    "    \"\"\"\n",
    "    Convert text to lowercase\n",
    "    \"\"\"\n",
    "    return doc.lower()\n",
    "\n",
    "def add_space_around_string(doc: str, string_list: typing.List[str]) -> str:\n",
    "    \"\"\"\n",
    "    Add a space character around each string in a list of strings\n",
    "    \"\"\"\n",
    "    match = re.compile(\"(\" + \"|\\\\\".join(string_list) + \")\")\n",
    "    return match.sub(r\" \\1 \", doc)\n",
    "\n",
    "def add_space_around_comma(doc: str) -> str:\n",
    "    \"\"\"\n",
    "    Add a space around commas, unless they are digit separators\n",
    "    \"\"\"\n",
    "    n = len(doc)\n",
    "    new_doc = \"\"\n",
    "    for i, c in enumerate(doc):\n",
    "        if c != \",\":\n",
    "            new_doc += c\n",
    "        else:\n",
    "            if i == 0 or i == n -1 :\n",
    "                new_doc += \"\"\n",
    "            else:\n",
    "                if doc[i-1].isdigit() and doc[i+1].isdigit():\n",
    "                    new_doc += c\n",
    "                else:\n",
    "                    new_doc += \" \" + c + \" \" \n",
    "    return new_doc\n",
    "\n",
    "def transform_doc_with_mapper(doc: str, mapper: typing.Dict[str, str]) -> str:\n",
    "    \"\"\"\n",
    "    Replace substrings in a document according to a predetermined mapping\n",
    "    \"\"\"\n",
    "    for k in mapper:\n",
    "        match = re.compile(k)\n",
    "        doc = match.sub(mapper[k], doc)\n",
    "    return doc"
   ]
  },
  {
   "cell_type": "code",
   "execution_count": 25,
   "id": "46938699-f1e7-4805-9d74-83336888acc9",
   "metadata": {},
   "outputs": [
    {
     "data": {
      "text/plain": [
       "'John Chris are the best of friends CA100++'"
      ]
     },
     "execution_count": 25,
     "metadata": {},
     "output_type": "execute_result"
    }
   ],
   "source": [
    "ex = \"John - Chris are \\xad the best of friends Climate Action 100+\"\n",
    "transform_doc_with_mapper(ex, string_map)"
   ]
  },
  {
   "cell_type": "code",
   "execution_count": 14,
   "id": "51ef2961-8b25-45f4-9c3d-79e85522c039",
   "metadata": {},
   "outputs": [
    {
     "data": {
      "text/plain": [
       "' John ,  our professor ,  is a rockstar'"
      ]
     },
     "execution_count": 14,
     "metadata": {},
     "output_type": "execute_result"
    }
   ],
   "source": [
    "add_space_around_comma(\", John, our professor, is a rockstar\")"
   ]
  },
  {
   "cell_type": "code",
   "execution_count": 192,
   "id": "97d5ccd9-f59f-4a00-8dc0-db95814abcfb",
   "metadata": {},
   "outputs": [],
   "source": [
    "sorted_vocab = sorted([(w, c) for (w,c) in vocab.items()], key=lambda x: x[1], reverse=True)"
   ]
  },
  {
   "cell_type": "code",
   "execution_count": 24,
   "id": "898f5fa0-6969-4546-9ab2-68ede6fb0042",
   "metadata": {},
   "outputs": [],
   "source": [
    "special_characters = [\n",
    "    \"“\",\n",
    "    \"”\",\n",
    "    \":\",\n",
    "    \"(\",\n",
    "    \")\",\n",
    "    \"[\",\n",
    "    \"]\",\n",
    "    \";\",\n",
    "    \"?\",\n",
    "    \"‘\",\n",
    "    \"’\",\n",
    "    \">\",\n",
    "    \"\\\"\",\n",
    "    \"€\",\n",
    "    \"$\"\n",
    "]\n",
    "\n",
    "possessive_chars = [\n",
    "    \"’\" # multiple special cases here\n",
    "]\n",
    "\n",
    "character_map = {\n",
    "    \"–\" : \"-\",\n",
    "    \"§\" : \"\",\n",
    "    \"*\" : \"\",\n",
    "    \"®\" : \"\",\n",
    "    \"–\" : \"-\",\n",
    "    \"—\" : \"-\",\n",
    "    \"‑\" : \"-\",\n",
    "    \"‐\" : \"-\",\n",
    "}\n",
    "\n",
    "string_map = {\n",
    "    \"\\xad\" : \"-\",\n",
    "    \"Climate Action 100+\" : \"CA100+\",\n",
    "    \" & \": \" and \",\n",
    "    \" - \" : \" \",\n",
    "    \"°C\" : \" °C \",\n",
    "}"
   ]
  },
  {
   "cell_type": "code",
   "execution_count": 158,
   "id": "1f27664f-90d7-4060-a71d-76c4ad814f78",
   "metadata": {},
   "outputs": [
    {
     "data": {
      "text/plain": [
       "[('t*km', 1), ('§', 1)]"
      ]
     },
     "execution_count": 158,
     "metadata": {},
     "output_type": "execute_result"
    }
   ],
   "source": [
    "[\n",
    "    (w,c) for (w,c) in sorted_vocab \n",
    "    if not w.isalnum() \n",
    "    and \",\" not in w # done\n",
    "    and \".\" not in w # done\n",
    "    and \"(\" not in w # done \n",
    "    and \")\" not in w # done\n",
    "    and \"%\" not in w # done\n",
    "    and \"$\" not in w # done\n",
    "    and \"-\" not in w\n",
    "    and \"\\'\" not in w\n",
    "    and \"/\" not in w\n",
    "    and \"[\" not in w # done\n",
    "    and \"“\" not in w # done\n",
    "    and \":\" not in w # done\n",
    "    and \";\" not in w # done\n",
    "    and \"’\" not in w # done\n",
    "    and \"–\" not in w # done\n",
    "    and \"—\" not in w # done\n",
    "    and \"‑\" not in w # done\n",
    "    and \"‐\" not in w # done\n",
    "    and \"‘\" not in w # done\n",
    "    and \"”\" not in w # done\n",
    "    and \"?\" not in w # done\n",
    "    and \"€\" not in w # done\n",
    "    and \"]\" not in w # done\n",
    "    and \"\\\"\" not in w # done\n",
    "    and \"\\xad\" not in w # done\n",
    "    and \"®\" not in w # done\n",
    "    and \"&\" not in w # done\n",
    "    and \"+\" not in w # done\n",
    "    and \"°C\" not in w # done\n",
    "    and \">\" not in w # done\n",
    "]"
   ]
  },
  {
   "cell_type": "code",
   "execution_count": 213,
   "id": "1b1225c4-2bf7-4af0-b5e3-352fd9f907d1",
   "metadata": {},
   "outputs": [
    {
     "data": {
      "text/plain": [
       "[('2', 118),\n",
       " ('3', 113),\n",
       " ('1', 86),\n",
       " ('2020', 50),\n",
       " ('2019', 33),\n",
       " ('2018', 14),\n",
       " ('100', 11),\n",
       " ('2030', 11),\n",
       " ('2016', 10),\n",
       " ('2015', 10),\n",
       " ('20', 9),\n",
       " ('2021', 9),\n",
       " ('5', 9),\n",
       " ('15', 9),\n",
       " ('2025', 8),\n",
       " ('10', 8),\n",
       " ('2017', 7),\n",
       " ('30', 7),\n",
       " ('2014', 6),\n",
       " ('70', 5),\n",
       " ('21', 5),\n",
       " ('4', 5),\n",
       " ('80', 5),\n",
       " ('60', 5),\n",
       " ('2024', 5),\n",
       " ('50', 5),\n",
       " ('12', 5),\n",
       " ('2050', 5),\n",
       " ('19', 4),\n",
       " ('40', 4),\n",
       " ('000', 4),\n",
       " ('25', 4),\n",
       " ('17', 4),\n",
       " ('2013', 4),\n",
       " ('2004', 4),\n",
       " ('90', 3),\n",
       " ('14', 3),\n",
       " ('245', 3),\n",
       " ('2002', 3),\n",
       " ('8', 3),\n",
       " ('6', 3),\n",
       " ('52', 3),\n",
       " ('2010', 3),\n",
       " ('2008', 2),\n",
       " ('2040', 2),\n",
       " ('11', 2),\n",
       " ('300', 2),\n",
       " ('16', 2),\n",
       " ('31', 2),\n",
       " ('555', 2),\n",
       " ('117', 2),\n",
       " ('634', 2),\n",
       " ('2006', 2),\n",
       " ('2005', 2),\n",
       " ('179', 2),\n",
       " ('2060', 2),\n",
       " ('800', 2),\n",
       " ('216', 2),\n",
       " ('500', 2),\n",
       " ('250', 2),\n",
       " ('146', 2),\n",
       " ('95', 2),\n",
       " ('38', 1),\n",
       " ('2007', 1),\n",
       " ('29', 1),\n",
       " ('67', 1),\n",
       " ('109', 1),\n",
       " ('77', 1),\n",
       " ('439', 1),\n",
       " ('84', 1),\n",
       " ('2023', 1),\n",
       " ('1985', 1),\n",
       " ('284', 1),\n",
       " ('777', 1),\n",
       " ('75', 1),\n",
       " ('700', 1),\n",
       " ('50001', 1),\n",
       " ('608', 1),\n",
       " ('32', 1),\n",
       " ('2012', 1),\n",
       " ('098', 1),\n",
       " ('58', 1),\n",
       " ('182', 1),\n",
       " ('441', 1),\n",
       " ('335', 1),\n",
       " ('106', 1),\n",
       " ('6000', 1),\n",
       " ('317', 1),\n",
       " ('110', 1),\n",
       " ('177', 1),\n",
       " ('400', 1),\n",
       " ('89', 1),\n",
       " ('338', 1),\n",
       " ('43', 1),\n",
       " ('200', 1),\n",
       " ('2009', 1),\n",
       " ('195', 1),\n",
       " ('26', 1),\n",
       " ('410', 1),\n",
       " ('231', 1),\n",
       " ('169', 1),\n",
       " ('68', 1),\n",
       " ('2011', 1),\n",
       " ('390', 1),\n",
       " ('111', 1),\n",
       " ('189', 1),\n",
       " ('705', 1),\n",
       " ('076', 1),\n",
       " ('7', 1),\n",
       " ('979', 1),\n",
       " ('723', 1),\n",
       " ('136', 1),\n",
       " ('64', 1),\n",
       " ('45', 1),\n",
       " ('47', 1),\n",
       " ('79', 1),\n",
       " ('120', 1),\n",
       " ('102', 1),\n",
       " ('73', 1),\n",
       " ('42', 1),\n",
       " ('41', 1),\n",
       " ('355', 1),\n",
       " ('1961', 1),\n",
       " ('211', 1),\n",
       " ('150', 1),\n",
       " ('600', 1),\n",
       " ('24', 1),\n",
       " ('141', 1),\n",
       " ('1970', 1),\n",
       " ('180', 1),\n",
       " ('02', 1),\n",
       " ('158', 1),\n",
       " ('188', 1),\n",
       " ('139', 1),\n",
       " ('53', 1),\n",
       " ('628', 1),\n",
       " ('119', 1),\n",
       " ('176', 1),\n",
       " ('963', 1),\n",
       " ('33', 1),\n",
       " ('259', 1),\n",
       " ('22', 1),\n",
       " ('540', 1),\n",
       " ('448', 1),\n",
       " ('351', 1),\n",
       " ('130', 1),\n",
       " ('13', 1),\n",
       " ('508', 1),\n",
       " ('478', 1),\n",
       " ('004', 1),\n",
       " ('387', 1),\n",
       " ('823', 1)]"
      ]
     },
     "execution_count": 213,
     "metadata": {},
     "output_type": "execute_result"
    }
   ],
   "source": [
    "[\n",
    "    (w,c) for (w,c) in sorted_vocab \n",
    "    if w.isdigit()\n",
    "][-300:]"
   ]
  },
  {
   "cell_type": "code",
   "execution_count": null,
   "id": "9a042821-f3ff-4232-8d37-79d4e5981166",
   "metadata": {},
   "outputs": [],
   "source": []
  }
 ],
 "metadata": {
  "kernelspec": {
   "display_name": "Python 3 (ipykernel)",
   "language": "python",
   "name": "python3"
  },
  "language_info": {
   "codemirror_mode": {
    "name": "ipython",
    "version": 3
   },
   "file_extension": ".py",
   "mimetype": "text/x-python",
   "name": "python",
   "nbconvert_exporter": "python",
   "pygments_lexer": "ipython3",
   "version": "3.8.10"
  }
 },
 "nbformat": 4,
 "nbformat_minor": 5
}
